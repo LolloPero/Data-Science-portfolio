{
 "cells": [
  {
   "cell_type": "code",
   "execution_count": null,
   "metadata": {},
   "outputs": [],
   "source": [
    "import pandas as pd\n",
    "import requests\n",
    "\n",
    "\n",
    "from database_functions import get_config\n",
    "from datetime import datetime\n",
    "from sqlalchemy import create_engine"
   ]
  },
  {
   "cell_type": "code",
   "execution_count": null,
   "metadata": {},
   "outputs": [],
   "source": [
    "#GLOBALS\n",
    "TABLE_NAME_TARGET='crypto_timeseries'\n",
    "CONFIG_DB = get_config(filename=\"database.ini\", section=\"crypto\")\n",
    "CONFIG_API = get_config(filename=\"database.ini\", section=\"api\")\n",
    "\n",
    "API_URL=\"https://rest.coincap.io/v3/assets?apiKey={api_key}\"\n",
    "HEADER_API = {\n",
    "            \"Content-Type\":\"application/json\",\n",
    "            \"Accept-Encoding\":\"deflate\" \n",
    "        }"
   ]
  },
  {
   "cell_type": "code",
   "execution_count": null,
   "metadata": {},
   "outputs": [],
   "source": [
    "##----> ETRACT <----- ##\n",
    "#API query\n",
    "response = requests.get(url= API_URL.format(api_key=CONFIG_API['api_key']),\n",
    "                        headers=HEADER_API)"
   ]
  },
  {
   "cell_type": "code",
   "execution_count": null,
   "metadata": {},
   "outputs": [],
   "source": [
    "##----> TRANSFORM <----- ##\n",
    "#API json response to pandas Dataframe\n",
    "responseData=response.json()\n",
    "df = pd.json_normalize(data=responseData, record_path='data')\n",
    "\n",
    "#insert timestamp\n",
    "current_timestamp = datetime.now()\n",
    "current_timestamp.strftime('%d-%m-%Y %H:%M:%S')\n",
    "df['timestamp'] = [current_timestamp]*df.shape[0]\n",
    "\n",
    "#rename columns to lowercase\n",
    "rename_cols_dict={c:c.lower() for c in df.columns.tolist()}\n",
    "df.rename(columns=rename_cols_dict, inplace=True)\n",
    "\n",
    "#drop columns with tokens*\n",
    "df = df.loc[:, ~df.columns.str.startswith(\"tokens.\")]\n"
   ]
  },
  {
   "cell_type": "code",
   "execution_count": null,
   "metadata": {},
   "outputs": [],
   "source": [
    "##----> LOAD <----- ##\n",
    "#load data into postresql database\n",
    "conn_string = f\"postgresql://{CONFIG_DB['user']}:{CONFIG_DB['password']}@{CONFIG_DB['host']}/{CONFIG_DB['database']}\"\n",
    "\n",
    "engine = create_engine(conn_string)  \n",
    "\n",
    "df.to_sql(\n",
    "            name=TABLE_NAME_TARGET,\n",
    "            con=engine,\n",
    "            if_exists='append',\n",
    "            index=True\n",
    "        )\n"
   ]
  },
  {
   "cell_type": "code",
   "execution_count": null,
   "metadata": {},
   "outputs": [],
   "source": []
  }
 ],
 "metadata": {
  "kernelspec": {
   "display_name": ".venv",
   "language": "python",
   "name": "python3"
  },
  "language_info": {
   "codemirror_mode": {
    "name": "ipython",
    "version": 3
   },
   "file_extension": ".py",
   "mimetype": "text/x-python",
   "name": "python",
   "nbconvert_exporter": "python",
   "pygments_lexer": "ipython3",
   "version": "3.9.6"
  }
 },
 "nbformat": 4,
 "nbformat_minor": 2
}
