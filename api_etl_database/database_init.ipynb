{
 "cells": [
  {
   "cell_type": "code",
   "execution_count": 1,
   "metadata": {},
   "outputs": [],
   "source": [
    "import requests\n",
    "import pandas as pd\n",
    "import pandas.io.sql as sqlio\n",
    "import psycopg2\n",
    "import typing\n",
    "\n",
    "from configparser import ConfigParser\n",
    "from datetime import datetime\n",
    "from psycopg2 import sql\n",
    "from psycopg2.extensions import ISOLATION_LEVEL_AUTOCOMMIT\n",
    "from psycopg2.extras import execute_values\n",
    "from sqlalchemy import create_engine\n",
    "\n",
    "\n",
    "from database_functions import get_config, cryptodb_connection\n",
    "\n",
    "from IPython.core.interactiveshell import InteractiveShell\n",
    "InteractiveShell.ast_node_interactivity = \"all\""
   ]
  },
  {
   "cell_type": "code",
   "execution_count": 2,
   "metadata": {},
   "outputs": [],
   "source": [
    "#GLOBALS\n",
    "CONFIG_FILEPATH=\"database.ini\"\n",
    "SECTION_DB_DEFAULT=\"postgres\"\n",
    "SECTION_DB_CREATE=\"crypto\"\n",
    "SECTION_API=\"api\"\n",
    "\n",
    "TABLE_NAME_TARGET='crypto_timeseries'"
   ]
  },
  {
   "cell_type": "code",
   "execution_count": 3,
   "metadata": {},
   "outputs": [
    {
     "data": {
      "text/plain": [
       "{'host': 'localhost',\n",
       " 'database': 'postgres',\n",
       " 'user': 'postgres',\n",
       " 'password': 'postgres',\n",
       " 'port': '5432'}"
      ]
     },
     "execution_count": 3,
     "metadata": {},
     "output_type": "execute_result"
    },
    {
     "data": {
      "text/plain": [
       "{'host': 'localhost',\n",
       " 'database': 'crypto',\n",
       " 'user': 'postgres',\n",
       " 'password': 'postgres',\n",
       " 'port': '5432'}"
      ]
     },
     "execution_count": 3,
     "metadata": {},
     "output_type": "execute_result"
    }
   ],
   "source": [
    "config_default = get_config(filename=CONFIG_FILEPATH, section=SECTION_DB_DEFAULT)\n",
    "config_create = get_config(filename=CONFIG_FILEPATH, section=SECTION_DB_CREATE)\n",
    "config_default\n",
    "config_create\n"
   ]
  },
  {
   "cell_type": "code",
   "execution_count": 4,
   "metadata": {},
   "outputs": [
    {
     "name": "stdout",
     "output_type": "stream",
     "text": [
      "\n",
      "                Following exception occurred: \n",
      "                    database \"crypto\" already exists\n",
      "\n",
      "        \n"
     ]
    }
   ],
   "source": [
    "#create Database\n",
    "con = psycopg2.connect(**config_default)\n",
    "con.set_isolation_level(ISOLATION_LEVEL_AUTOCOMMIT)\n",
    "\n",
    "# Obtain a DB Cursor\n",
    "cursor          = con.cursor()\n",
    "\n",
    "# Create database\n",
    "try:\n",
    "    cursor.execute(f\"create database {config_create['database']};\")\n",
    "except Exception as e:\n",
    "    print(f\"\"\"\n",
    "                Following exception occurred: \n",
    "                    {e}\n",
    "        \"\"\")"
   ]
  },
  {
   "cell_type": "code",
   "execution_count": 5,
   "metadata": {},
   "outputs": [
    {
     "name": "stdout",
     "output_type": "stream",
     "text": [
      "[('crypto_timeseries',)]\n"
     ]
    }
   ],
   "source": [
    "\n",
    "\n",
    "#Create TABLES\n",
    "with cryptodb_connection() as db:\n",
    "        with db.conn.cursor() as curs:\n",
    "            \n",
    "            #create crypto_timeseries table\n",
    "            curs.execute(\n",
    "                            \"\"\" \n",
    "                                CREATE TABLE IF NOT EXISTS crypto_timeseries\n",
    "                                (   \n",
    "                                    index               SERIAL NOT NULL,\n",
    "                                    timestamp           TIMESTAMP NOT NULL,\n",
    "                                    id                  VARCHAR NOT NULL,\n",
    "                                    rank                INT NOT NUll,\n",
    "                                    symbol              VARCHAR NOT NULL,\n",
    "                                    name                VARCHAR NOT NULL,\n",
    "                                    supply              FLOAT,\n",
    "                                    maxsupply           FLOAT,\n",
    "                                    marketcapusd        FLOAT,\n",
    "                                    volumeusd24hr       FLOAT,\n",
    "                                    priceusd            FLOAT,\n",
    "                                    changepercent24hr   FLOAT,\n",
    "                                    vwap24hr            FLOAT,\n",
    "                                    explorer            VARCHAR\n",
    "                                );\t\n",
    "                            \"\"\"\n",
    "                        )\n",
    "            \n",
    "            #fecth tables in database\n",
    "            curs.execute(\"select relname from pg_class where relkind='r' and relname !~ '^(pg_|sql_)';\")\n",
    "            print(curs.fetchall())"
   ]
  }
 ],
 "metadata": {
  "kernelspec": {
   "display_name": ".venv",
   "language": "python",
   "name": "python3"
  },
  "language_info": {
   "codemirror_mode": {
    "name": "ipython",
    "version": 3
   },
   "file_extension": ".py",
   "mimetype": "text/x-python",
   "name": "python",
   "nbconvert_exporter": "python",
   "pygments_lexer": "ipython3",
   "version": "3.9.6"
  }
 },
 "nbformat": 4,
 "nbformat_minor": 2
}
