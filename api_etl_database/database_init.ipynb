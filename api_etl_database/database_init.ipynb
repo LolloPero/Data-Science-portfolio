{
 "cells": [
  {
   "cell_type": "code",
   "execution_count": 1,
   "metadata": {},
   "outputs": [],
   "source": [
    "import pandas as pd\n",
    "import pandas.io.sql as sqlio\n",
    "import psycopg2\n",
    "import typing\n",
    "\n",
    "from configparser import ConfigParser\n",
    "from psycopg2 import sql\n",
    "from psycopg2.extensions import ISOLATION_LEVEL_AUTOCOMMIT\n",
    "from psycopg2.extras import execute_values\n",
    "\n",
    "\n",
    "from database_functions import get_config, cryptodb_connection"
   ]
  },
  {
   "cell_type": "code",
   "execution_count": 5,
   "metadata": {},
   "outputs": [],
   "source": [
    "#GLOBALS\n",
    "name_Database = \"crypto\"\n",
    "sqlCreateDatabase = f\"create database {name_Database};\"\n"
   ]
  },
  {
   "cell_type": "code",
   "execution_count": 6,
   "metadata": {},
   "outputs": [
    {
     "name": "stdout",
     "output_type": "stream",
     "text": [
      "('PostgreSQL 15.0, compiled by Visual C++ build 1914, 64-bit',)\n"
     ]
    }
   ],
   "source": [
    "#check if connection works\n",
    "with cryptodb_connection() as db:\n",
    "        with db.conn.cursor() as curs:\n",
    "            curs.execute('SELECT version()')\n",
    "            db_version = curs.fetchone()\n",
    "            print(db_version)"
   ]
  },
  {
   "cell_type": "code",
   "execution_count": 7,
   "metadata": {},
   "outputs": [
    {
     "name": "stdout",
     "output_type": "stream",
     "text": [
      "\n",
      "                Following exception occurred: \n",
      "                    database \"crypto\" already exists\n",
      "\n",
      "        \n"
     ]
    }
   ],
   "source": [
    "#create Database\n",
    "config = get_config(filename=\"database.ini\", section=\"crypto\")\n",
    "con = psycopg2.connect(**config)\n",
    "con.set_isolation_level(ISOLATION_LEVEL_AUTOCOMMIT)\n",
    "\n",
    "# Obtain a DB Cursor\n",
    "cursor          = con.cursor()\n",
    "\n",
    "# Create database\n",
    "try:\n",
    "    cursor.execute(sqlCreateDatabase)\n",
    "except Exception as e:\n",
    "    print(f\"\"\"\n",
    "                Following exception occurred: \n",
    "                    {e}\n",
    "        \"\"\")"
   ]
  },
  {
   "cell_type": "code",
   "execution_count": 21,
   "metadata": {},
   "outputs": [
    {
     "name": "stdout",
     "output_type": "stream",
     "text": [
      "[('crypto_timeseries',)]\n"
     ]
    }
   ],
   "source": [
    "#Create TABLES\n",
    "with cryptodb_connection() as db:\n",
    "        with db.conn.cursor() as curs:\n",
    "            \n",
    "            #create crypto_timeseries table\n",
    "            curs.execute(\n",
    "                            \"\"\" \n",
    "                                CREATE TABLE IF NOT EXISTS crypto_timeseries\n",
    "                                (   \n",
    "                                    index               SERIAL NOT NULL,\n",
    "                                    timestamp           TIMESTAMP NOT NULL,\n",
    "                                    id                  VARCHAR NOT NULL,\n",
    "                                    rank                INT NOT NUll,\n",
    "                                    symbol              VARCHAR NOT NULL,\n",
    "                                    name                VARCHAR NOT NULL,\n",
    "                                    supply              FLOAT,\n",
    "                                    maxsupply           FLOAT,\n",
    "                                    marketcapusd        FLOAT,\n",
    "                                    volumeusd24hr       FLOAT,\n",
    "                                    priceusd            FLOAT,\n",
    "                                    changepercent24hr   FLOAT,\n",
    "                                    vwap24hr            FLOAT,\n",
    "                                    explorer            VARCHAR\n",
    "                                );\t\n",
    "                            \"\"\"\n",
    "                        )\n",
    "            \n",
    "            #fecth tables in database\n",
    "            curs.execute(\"select relname from pg_class where relkind='r' and relname !~ '^(pg_|sql_)';\")\n",
    "            print(curs.fetchall())"
   ]
  }
 ],
 "metadata": {
  "kernelspec": {
   "display_name": ".venv",
   "language": "python",
   "name": "python3"
  },
  "language_info": {
   "codemirror_mode": {
    "name": "ipython",
    "version": 3
   },
   "file_extension": ".py",
   "mimetype": "text/x-python",
   "name": "python",
   "nbconvert_exporter": "python",
   "pygments_lexer": "ipython3",
   "version": "3.8.3"
  }
 },
 "nbformat": 4,
 "nbformat_minor": 2
}
